{
 "cells": [
  {
   "cell_type": "markdown",
   "metadata": {},
   "source": [
    "# Anomaly Detection"
   ]
  },
  {
   "cell_type": "markdown",
   "metadata": {},
   "source": [
    "This notebook is based on the Exercise 8 of the Manchine Learning Course in Coursera by A. Nguyen. (https://es.coursera.org/learn/machine-learning#)\n"
   ]
  },
  {
   "cell_type": "markdown",
   "metadata": {},
   "source": [
    "This notebook is in github at https://github.com/jjmurillo/macler/blob/main/Exercises/AnomalyDetectionExercise.ipynb\n",
    "\n",
    "You may open this notbook at \n",
    "\n",
    "<table align=\"left\">\n",
    "  <td>\n",
    "    <a target=\"_blank\" href=\"https://colab.research.google.com/github/jjmurillo/macler/blob/main/Exercises/AnomalyDetectionExercise.ipynb\"><img src=\"https://www.tensorflow.org/images/colab_logo_32px.png\" />Run in Google Colab</a>\n",
    "  </td>\n",
    "</table>\n"
   ]
  },
  {
   "cell_type": "markdown",
   "metadata": {},
   "source": [
    "Also, you can try Binder, there go into the exercises folder. [![Binder](https://mybinder.org/badge_logo.svg)](https://mybinder.org/v2/gh/jjmurillo/macler/main)\n"
   ]
  },
  {
   "cell_type": "markdown",
   "metadata": {},
   "source": [
    "## Introduction\n",
    "\n",
    "In anomaly detection a solution to the problem is to estimate the probability density function to later estimate a threshold below which a sample is considered as anomalous.\n",
    "\n",
    "In this exercise we ask first for an estimation of the probability density function assuming a Gaussian distribution. Then, for a training set, we compute a threshold.\n",
    "\n",
    "We start with a low dimensional problem to end with anomaly detection for a larger one."
   ]
  },
  {
   "cell_type": "markdown",
   "metadata": {},
   "source": [
    "## Probability density function\n",
    "\n",
    "We aim at detection when a server is behaving not properly. We have a pair for data: the throughput in Mbps and the latency or delay in answering to a request. We have some test samples, one for each computer server, and we conjecture that a few of them are not working properly while the rest do. "
   ]
  },
  {
   "cell_type": "markdown",
   "metadata": {},
   "source": [
    "Load your data,"
   ]
  },
  {
   "cell_type": "code",
   "execution_count": 2,
   "metadata": {},
   "outputs": [],
   "source": [
    "import numpy as np\n",
    "#import pandas as pd\n",
    "import matplotlib.pyplot as plt\n",
    "#import seaborn as sb\n",
    "from scipy.io import loadmat\n",
    "%matplotlib inline"
   ]
  },
  {
   "cell_type": "code",
   "execution_count": 3,
   "metadata": {
    "scrolled": true
   },
   "outputs": [
    {
     "data": {
      "text/plain": [
       "(307, 2)"
      ]
     },
     "execution_count": 3,
     "metadata": {},
     "output_type": "execute_result"
    }
   ],
   "source": [
    "data = loadmat('ex8data1.mat')\n",
    "X = data['X'] #Test data\n",
    "X.shape\n"
   ]
  },
  {
   "cell_type": "code",
   "execution_count": 4,
   "metadata": {},
   "outputs": [
    {
     "data": {
      "text/plain": [
       "(307, 2)"
      ]
     },
     "execution_count": 4,
     "metadata": {},
     "output_type": "execute_result"
    }
   ],
   "source": [
    "yval = data['yval'] #Data to validate, to compute the threshold. yval is 1 if it was an anomaly, 0 otherwise\n",
    "Xval = data['Xval']\n",
    "Xval.shape"
   ]
  },
  {
   "cell_type": "markdown",
   "metadata": {},
   "source": [
    "## Anomaly detection"
   ]
  },
  {
   "cell_type": "markdown",
   "metadata": {},
   "source": [
    "Our first task is to use a Gaussian model to detect if an unlabeled example from a data set should be considered anomalus.  We have a simple 2-dimensional data set to start off with to help visualize what the algorithm is doing.  Let's pull in and plot the data."
   ]
  },
  {
   "cell_type": "markdown",
   "metadata": {},
   "source": [
    "We ask: Use the data in $X$ to model the probability density function (pdf). In particular,\n",
    "\n",
    "1.- Write a function to estimate the pdf of a Gaussian multidimensional and estimate the values of the probability density function (pdf), recall that the multidimensional Gaussian is given by\n",
    "\n",
    "\\begin{equation}\n",
    " \\mathbf{X}\\sim {N}({\\mathbf{m}_{\\mathbf{X}}},{\\mathbf{C}_{\\mathbf{X}}}) \n",
    " =\\frac{1}{(2\\pi)^{d/2}|\\mathbf{C}_{\\mathbf{X}}|^{1/2}} \\mathrm{e}^{-\\frac{1}{2}(\\mathrm{x}-\\mathbf{m}_{\\mathbf{X}})^\\top\\mathbf{C} _{\\mathbf{X}}^{-1}(\\mathrm{x}-\\mathbf{m}_{\\mathbf{X}})}\n",
    " \\end{equation}\n",
    "\n",
    "Solution: the function can be as follows,"
   ]
  },
  {
   "cell_type": "code",
   "execution_count": null,
   "metadata": {},
   "outputs": [],
   "source": [
    "def multivariateGaussian(x, mu, cov):\n",
    "    '''\n",
    "    Caculate the multivariate normal density (pdf)\n",
    "      of dimension n and \n",
    "    Keyword arguments:\n",
    "        X = numpy array of a \"d x n\" or \"n x d\" sample vector\n",
    "        mu = numpy array of a \"d x 1\" or tuple of d entries with mean vector\n",
    "        cov = \"numpy array of a d x d\" covariance matrix\n",
    "    '''\n",
    "    \n",
    "    '''WRITE HERE YOUR FUNCTION'''"
   ]
  },
  {
   "cell_type": "markdown",
   "metadata": {},
   "source": [
    "We check for the function"
   ]
  },
  {
   "cell_type": "code",
   "execution_count": null,
   "metadata": {
    "scrolled": true
   },
   "outputs": [],
   "source": [
    "#Test with 1 dimension and 2 samples\n",
    "x = np.array([[0],[0]])\n",
    "mu  = np.array([[0]])\n",
    "cov = np.eye(1) \n",
    "print(multivariateGaussian(x, mu, cov))\n",
    "    # prints 0.3989 0.3989\n",
    "\n",
    "#Test with 2 dimension and 1 sample\n",
    "x = np.array([[0,0]])\n",
    "mu  = np.array([[0],[0]])\n",
    "cov = np.eye(2) \n",
    "    # prints 0.1591\n",
    "\n",
    "print(multivariateGaussian(x, mu, cov))\n",
    "    # prints 0.15915494309189535\n",
    "#Test with 2 dimension and 307 samples\n",
    "mu = X.mean(axis=0)\n",
    "sigma = X.var(axis=0)\n",
    "print(multivariateGaussian(X[1:15], mu, np.diag(sigma)))"
   ]
  },
  {
   "cell_type": "markdown",
   "metadata": {},
   "source": [
    "We now fit a bidimensional Gaussian pdf to our data. First, we estimate the mean and variances."
   ]
  },
  {
   "cell_type": "code",
   "execution_count": null,
   "metadata": {},
   "outputs": [],
   "source": [
    "mu = #Your code here ...\n",
    "Cov = #Your code here ..."
   ]
  },
  {
   "cell_type": "markdown",
   "metadata": {
    "collapsed": true
   },
   "source": [
    "Then estimate the values of the probability density function (pdf)"
   ]
  },
  {
   "cell_type": "code",
   "execution_count": null,
   "metadata": {},
   "outputs": [],
   "source": [
    "#pdfX=multivariateGaussian(X, mu, np.diag(sigma)) #Using out function above\n",
    "pdfX=multivariateGaussian(X, mu, Cov)\n",
    "\n",
    "# You may want to compare to the one given in any library. We use SciPy:\n",
    "from scipy import stats; \n",
    "pdfX2=stats.multivariate_normal.pdf(X, mu, Cov) #Using SciPy"
   ]
  },
  {
   "cell_type": "markdown",
   "metadata": {},
   "source": [
    "We print some values,"
   ]
  },
  {
   "cell_type": "code",
   "execution_count": null,
   "metadata": {},
   "outputs": [],
   "source": [
    "[[pdfX[1:10]],[pdfX2[1:10]]]"
   ]
  },
  {
   "cell_type": "markdown",
   "metadata": {},
   "source": [
    "3.- Observe the pdf using contour. The following function might help you.\n"
   ]
  },
  {
   "cell_type": "code",
   "execution_count": null,
   "metadata": {},
   "outputs": [],
   "source": [
    "def scattering(X,markerType='o',markerColor='b',axisHandle=None):\n",
    "    if axisHandle is None:\n",
    "        fig, axisHandle = plt.subplots(figsize=(8,8))\n",
    "    axisHandle.scatter(X[:,0], X[:,1],marker=markerType,color=markerColor)\n",
    "    axisHandle.axis('equal')\n",
    "    return axisHandle"
   ]
  },
  {
   "cell_type": "markdown",
   "metadata": {},
   "source": [
    "Solution: we only need to call the function properly,"
   ]
  },
  {
   "cell_type": "code",
   "execution_count": null,
   "metadata": {},
   "outputs": [],
   "source": [
    "scattering(X)"
   ]
  },
  {
   "cell_type": "markdown",
   "metadata": {},
   "source": [
    "Note that there area few samples far away from the main cluster, that will exhibit a low probability."
   ]
  },
  {
   "cell_type": "markdown",
   "metadata": {},
   "source": [
    "## Anomaly Detection"
   ]
  },
  {
   "cell_type": "markdown",
   "metadata": {},
   "source": [
    "### Anomaly detection in a 2-dimensional space"
   ]
  },
  {
   "cell_type": "markdown",
   "metadata": {},
   "source": [
    "For the last results above, and given a threshold of, e.g., $10^{-4}$, detect the anomalies."
   ]
  },
  {
   "cell_type": "markdown",
   "metadata": {},
   "source": [
    "Solution: \n",
    "\n",
    "We will model the data above to estimate as anomalies those samples far away from the main cluster. "
   ]
  },
  {
   "cell_type": "code",
   "execution_count": null,
   "metadata": {},
   "outputs": [],
   "source": [
    "#Your code here, detect the anomalies and provide their indexes"
   ]
  },
  {
   "cell_type": "markdown",
   "metadata": {},
   "source": [
    "### Threshold estimation"
   ]
  },
  {
   "cell_type": "markdown",
   "metadata": {},
   "source": [
    "Compute the threshold, $\\epsilon$, to get a good value of \n",
    "$$\n",
    "F_1=2PR/(P+R)\n",
    "$$ \n",
    "where $P$ is the precission and $R$ is the \\textit{recall}. The following function will help you as starting point. You will have to complete it. Check that you get a value of $\\epsilon$ around $8.99e-05$."
   ]
  },
  {
   "cell_type": "markdown",
   "metadata": {},
   "source": [
    "Solution: We first complete the function "
   ]
  },
  {
   "cell_type": "code",
   "execution_count": null,
   "metadata": {},
   "outputs": [],
   "source": [
    "def selectThreshold(yval, pval):\n",
    "    '''\n",
    "    SELECTTHRESHOLD Find the best threshold (epsilon) to use for selecting\n",
    "    outliers\n",
    "    [bestEpsilon, bestF1] = SELECTTHRESHOLD(yval, pval) finds the best\n",
    "    threshold to use for selecting outliers based on the results from a\n",
    "    validation set (pval) and the ground truth (yval).\n",
    "   \n",
    "    '''\n",
    "    best_epsilon = 0\n",
    "    best_f1 = 0\n",
    "    f1 = 0\n",
    "    \n",
    "    stepsize = (pval.max() - pval.min()) / 1000\n",
    "    \n",
    "    for epsilon in np.arange(pval.min(), pval.max(), stepsize):\n",
    "        preds = pval < epsilon\n",
    "    '''\n",
    "    % ====================== YOUR CODE HERE ======================\n",
    "    % Instructions: Compute the F1 score of choosing epsilon as the\n",
    "    %               threshold and place the value in F1. The code at the\n",
    "    %               end of the loop will compare the F1 score for this\n",
    "    %               choice of epsilon and set it to be the best epsilon if\n",
    "    %               it is better than the current choice of epsilon.\n",
    "    %\n",
    "    % Note: You can use predictions = (pval < epsilon) to get a binary vector\n",
    "    %       of 0's and 1's of the outlier predictions\n",
    "\n",
    "    % yval says it's an anomaly and so algorithm does.\n",
    "    %tp = ...\n",
    "\n",
    "    % yval says it's not an anomaly,  but algorithm says anomaly.\n",
    "    %fp = ...\n",
    "\n",
    "    % yval says it's an anomaly,  but algorithm says not anomaly.\n",
    "    %fn = ...\n",
    "\n",
    "    % precision and recall\n",
    "    %prec = ...\n",
    "    %rec = ...\n",
    "\n",
    "    % F1 value;\n",
    "    F1 = (2*prec*rec)/(prec+rec);\n",
    "\n",
    "    % =============================================================\n",
    "    '''\n",
    "        \n",
    "        if f1 > best_f1:\n",
    "            best_f1 = f1\n",
    "            best_epsilon = epsilon\n",
    "    \n",
    "    return best_epsilon, best_f1"
   ]
  },
  {
   "cell_type": "markdown",
   "metadata": {},
   "source": [
    "Then we estimate the threshold using the validation data "
   ]
  },
  {
   "cell_type": "code",
   "execution_count": null,
   "metadata": {},
   "outputs": [],
   "source": [
    "# Estimate probabilities for validation data, then the threshold\n",
    "pval= #Your code here\n",
    "epsilon, f1 = select_threshold(pval, yval)\n",
    "epsilon, f1"
   ]
  },
  {
   "cell_type": "markdown",
   "metadata": {},
   "source": [
    "Finally, we can apply the threshold to the data set and visualize the results."
   ]
  },
  {
   "cell_type": "code",
   "execution_count": null,
   "metadata": {},
   "outputs": [],
   "source": [
    "# indexes of the values considered to be outliers\n",
    "outliers = #Your code here\n"
   ]
  },
  {
   "cell_type": "code",
   "execution_count": null,
   "metadata": {},
   "outputs": [],
   "source": [
    "ax=scattering(X,'o','b')\n",
    "ax=scattering(X[outliers[0],:],'o','r',ax) #X[outliers[0],0], X[outliers[0],1]"
   ]
  },
  {
   "cell_type": "markdown",
   "metadata": {},
   "source": [
    "The points in red are the ones that were flagged as outliers.  These seem pretty reasonable.  The top right point that has some separation (but was not flagged) may be an outlier too, but it's fairly close.  There's another example in the text of applying this to a higher-dimensional data set, but there's nothing new to do or look at so we'll move on to the last section."
   ]
  },
  {
   "cell_type": "markdown",
   "metadata": {},
   "source": [
    "### Anomaly detection in a larger dimensional space"
   ]
  },
  {
   "cell_type": "markdown",
   "metadata": {},
   "source": [
    "Finally, a similar problem with more features, dimensions, is faced. Load the data in ex8data2.mat, with 11 dimensions, compute the threshold and detect anomalies. "
   ]
  },
  {
   "cell_type": "markdown",
   "metadata": {},
   "source": [
    "Solution:"
   ]
  },
  {
   "cell_type": "code",
   "execution_count": null,
   "metadata": {},
   "outputs": [],
   "source": [
    "data = loadmat('ex8data2.mat')\n",
    "X11 = data['X']\n",
    "X11val = data['Xval']\n",
    "y11val = data['yval']"
   ]
  },
  {
   "cell_type": "markdown",
   "metadata": {},
   "source": [
    "Estimate parameters of the Gaussian and the values of the pdf"
   ]
  },
  {
   "cell_type": "code",
   "execution_count": null,
   "metadata": {},
   "outputs": [],
   "source": [
    "mu11 = #Your code here\n",
    "Cov11= #Your code here\n",
    "p11=multivariateGaussian(X11, mu11, Cov11) \n",
    "p11val=multivariateGaussian(X11val, mu11, Cov11) \n"
   ]
  },
  {
   "cell_type": "markdown",
   "metadata": {},
   "source": [
    "Estimate the threshold "
   ]
  },
  {
   "cell_type": "code",
   "execution_count": null,
   "metadata": {},
   "outputs": [],
   "source": [
    "epsilon11, f1 = select_threshold(p11val, y11val)\n",
    "epsilon11, f1"
   ]
  },
  {
   "cell_type": "markdown",
   "metadata": {},
   "source": [
    "Finally, we can apply the threshold to the data set,"
   ]
  },
  {
   "cell_type": "code",
   "execution_count": null,
   "metadata": {},
   "outputs": [],
   "source": [
    "# indexes of the values considered to be outliers\n",
    "# Your code here"
   ]
  }
 ],
 "metadata": {
  "anaconda-cloud": {},
  "kernelspec": {
   "display_name": "Python 3",
   "language": "python",
   "name": "python3"
  },
  "language_info": {
   "codemirror_mode": {
    "name": "ipython",
    "version": 3
   },
   "file_extension": ".py",
   "mimetype": "text/x-python",
   "name": "python",
   "nbconvert_exporter": "python",
   "pygments_lexer": "ipython3",
   "version": "3.7.6"
  }
 },
 "nbformat": 4,
 "nbformat_minor": 1
}
